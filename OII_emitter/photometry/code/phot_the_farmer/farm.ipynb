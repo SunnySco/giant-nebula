{
 "cells": [
  {
   "cell_type": "code",
   "execution_count": 1,
   "metadata": {},
   "outputs": [
    {
     "name": "stderr",
     "output_type": "stream",
     "text": [
      "/home/lupengjun/anaconda3/lib/python3.10/site-packages/the_farmer/interface.py:808: SyntaxWarning: \"is not\" with a literal. Did you mean \"!=\"?\n",
      "  if conf.X_COLNAME is not 'x':\n",
      "/home/lupengjun/anaconda3/lib/python3.10/site-packages/the_farmer/interface.py:814: SyntaxWarning: \"is not\" with a literal. Did you mean \"!=\"?\n",
      "  if conf.Y_COLNAME is not 'y':\n",
      "[18:39:25] farmer :: INFO - interface.translation :: Imported translate file with 2 entries.\n",
      "[18:39:25] farmer :: DEBUG - Assigning nicknames to raw image names:\n",
      "[18:39:25] farmer :: DEBUG -      1 :: prefix-for-band-1 --> band-1\n",
      "[18:39:25] farmer :: DEBUG -      2 :: prefix-for-band-2 --> band-2\n"
     ]
    },
    {
     "name": "stdout",
     "output_type": "stream",
     "text": [
      "\n",
      "====================================================================\n",
      " ________    _       _______     ____    ____  ________  _______        \n",
      "|_   __  |  / \\     |_   __ \\   |_   \\  /   _||_   __  ||_   __ \\    \n",
      "  | |_ \\_| / _ \\      | |__) |    |   \\/   |    | |_ \\_|  | |__) |   \n",
      "  |  _|   / ___ \\     |  __ /     | |\\  /| |    |  _| _   |  __ /    \n",
      " _| |_  _/ /   \\ \\_  _| |  \\ \\_  _| |_\\/_| |_  _| |__/ | _| |  \\ \\_ \n",
      "|_____||____| |____||____| |___||_____||_____||________||____| |___|\n",
      "                                                                    \n",
      "--------------------------------------------------------------------\n",
      "M O D E L   P H O T O M E T R Y   W I T H   T H E   T R A C T O R   \n",
      "--------------------------------------------------------------------\n",
      "                                                                    \n",
      "    (C) 2018 - 2023 -- J. Weaver (DAWN, University of Copenhagen)          \n",
      "====================================================================\n",
      "\n",
      "CONSOLE_LOGGING_LEVEL ..... DEBUG\t\t\t\n",
      "LOGFILE_LOGGING_LEVEL ..... None\t\t\t\t\t\t\t\t\t\t\t\t\n",
      "PLOT ...................... 0\t\t\t\t\t\t\t\t\t\t\t\t\t\t\t\t\t\t\n",
      "NTHREADS .................. 0\t\t\t\t\t\t\t\t\t\t\t\t\t\t\t\t\t\t\t\n",
      "OVERWRITE ................. True \n",
      "\n",
      "Starting up logging system...\n",
      "Logging information wills stream only to console.\n",
      "\n"
     ]
    }
   ],
   "source": [
    "from the_farmer import interface"
   ]
  }
 ],
 "metadata": {
  "kernelspec": {
   "display_name": "base",
   "language": "python",
   "name": "python3"
  },
  "language_info": {
   "codemirror_mode": {
    "name": "ipython",
    "version": 3
   },
   "file_extension": ".py",
   "mimetype": "text/x-python",
   "name": "python",
   "nbconvert_exporter": "python",
   "pygments_lexer": "ipython3",
   "version": "3.10.9"
  },
  "orig_nbformat": 4
 },
 "nbformat": 4,
 "nbformat_minor": 2
}
