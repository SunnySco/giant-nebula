{
 "cells": [
  {
   "cell_type": "code",
   "execution_count": 1,
   "metadata": {},
   "outputs": [],
   "source": [
    "import matplotlib as mpl\n",
    "import matplotlib.pyplot as plt\n",
    "import numpy as np"
   ]
  },
  {
   "cell_type": "code",
   "execution_count": 2,
   "metadata": {},
   "outputs": [],
   "source": [
    "mpl.rcParams['text.usetex'] = True\n",
    "mpl.rcParams['font.family'] = 'serif'\n",
    "mpl.rcParams['font.serif'] = 'Times New Roman'\n",
    "mpl.rcParams['font.size'] = 12\n",
    "mpl.rcParams['axes.unicode_minus'] = False\n",
    "mpl.rcParams['xtick.direction'] = 'in'\n",
    "mpl.rcParams['ytick.direction'] = 'in'\n",
    "mpl.rcParams['xtick.color'] = 'black'\n",
    "mpl.rcParams['ytick.color'] = 'black'\n",
    "mpl.rcParams['xtick.top'] = True\n",
    "mpl.rcParams['ytick.right'] = True\n",
    "mpl.rcParams['xtick.minor.visible'] = True\n",
    "mpl.rcParams['ytick.minor.visible'] = True\n",
    "mpl.rcParams['xtick.major.size'] = 5\n",
    "mpl.rcParams['ytick.major.size'] = 5\n",
    "mpl.rcParams['xtick.minor.size'] = 3\n",
    "mpl.rcParams['ytick.minor.size'] = 3\n",
    "mpl.rcParams['xtick.major.width'] = 1\n",
    "mpl.rcParams['ytick.major.width'] = 1\n",
    "mpl.rcParams['xtick.minor.width'] = 1\n",
    "mpl.rcParams['ytick.minor.width'] = 1\n",
    "mpl.rcParams['axes.linewidth'] = 1"
   ]
  },
  {
   "cell_type": "markdown",
   "metadata": {},
   "source": [
    "# SED fitting plot with residuals"
   ]
  },
  {
   "cell_type": "code",
   "execution_count": null,
   "metadata": {},
   "outputs": [],
   "source": [
    "sfig, saxes = plt.subplots(2, 1, gridspec_kw=dict(height_ratios=[1, 4]), sharex=True)\n",
    "ax = saxes[1]\n",
    "pwave = np.array([f.wave_effective for f in out_obs[\"filters\"]])\n",
    "# plot the data\n",
    "ax.plot(pwave, out_obs[\"maggies\"], linestyle=\"\", marker=\"o\", color=\"k\")\n",
    "ax.errorbar(pwave,  out_obs[\"maggies\"], out_obs[\"maggies_unc\"], linestyle=\"\", color=\"k\", zorder=10)\n",
    "ax.set_ylabel(r\"$f_\\nu$ (maggies)\")\n",
    "ax.set_xlabel(r\"$\\lambda$ (AA)\")\n",
    "ax.set_xlim(1e3, 4e4)\n",
    "ax.set_ylim(out_obs[\"maggies\"].min() * 0.1, out_obs[\"maggies\"].max() * 5)\n",
    "ax.set_yscale(\"log\")\n",
    "\n",
    "# get the best-fit SED\n",
    "bsed = out[\"bestfit\"]\n",
    "ax.plot(bsed[\"restframe_wavelengths\"] * (1+out_obs[\"redshift\"]), bsed[\"spectrum\"], color=\"firebrick\", label=\"MAP sample\")\n",
    "ax.plot(pwave, bsed[\"photometry\"], linestyle=\"\", marker=\"s\", markersize=10, mec=\"orange\", mew=3, mfc=\"none\")\n",
    "\n",
    "ax = saxes[0]\n",
    "chi = (out_obs[\"maggies\"] - bsed[\"photometry\"]) / out_obs[\"maggies_unc\"]\n",
    "ax.plot(pwave, chi, linestyle=\"\", marker=\"o\", color=\"k\")\n",
    "ax.axhline(0, color=\"k\", linestyle=\":\")\n",
    "ax.set_ylim(-2, 2)\n",
    "ax.set_ylabel(r\"$\\chi_{\\rm best}$\")"
   ]
  },
  {
   "cell_type": "markdown",
   "metadata": {},
   "source": [
    "# SED fitting results"
   ]
  },
  {
   "cell_type": "markdown",
   "metadata": {},
   "source": []
  }
 ],
 "metadata": {
  "kernelspec": {
   "display_name": "base",
   "language": "python",
   "name": "python3"
  },
  "language_info": {
   "codemirror_mode": {
    "name": "ipython",
    "version": 3
   },
   "file_extension": ".py",
   "mimetype": "text/x-python",
   "name": "python",
   "nbconvert_exporter": "python",
   "pygments_lexer": "ipython3",
   "version": "3.10.9"
  }
 },
 "nbformat": 4,
 "nbformat_minor": 2
}
